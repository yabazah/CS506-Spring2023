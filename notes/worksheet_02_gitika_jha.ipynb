{
 "cells": [
  {
   "attachments": {},
   "cell_type": "markdown",
   "metadata": {},
   "source": [
    "# Worksheet 02\n",
    "\n",
    "Name: Gitika Jha \n",
    "UID: U10690464\n",
    "\n",
    "### Topics\n",
    "\n",
    "- Effective Programming\n",
    "\n",
    "### Effective Programming\n",
    "\n",
    "a) What is a drawback of the top down approach?"
   ]
  },
  {
   "attachments": {},
   "cell_type": "markdown",
   "metadata": {},
   "source": [
    "- requires more organization\n",
    "- if you do not know all the requirements up front, this is difficult to implement"
   ]
  },
  {
   "cell_type": "markdown",
   "metadata": {},
   "source": [
    "b) What is a drawback of the bottom up approach?"
   ]
  },
  {
   "attachments": {},
   "cell_type": "markdown",
   "metadata": {},
   "source": [
    "- it is very inflexible\n",
    "- you cannot visualize or test the code until the entire code is done."
   ]
  },
  {
   "cell_type": "markdown",
   "metadata": {},
   "source": [
    "c) What are 3 things you can do to have a better debugging experience?"
   ]
  },
  {
   "attachments": {},
   "cell_type": "markdown",
   "metadata": {},
   "source": [
    "1. Once you do get a bug, actually read the error and get the sense of what the root cause of the error is.\n",
    "2. Stay organized with your code, plan ahead\n",
    "3. Do constant \"sanity checks\", which is compartmentalize your code in such a way that you know that at some point, your code is working and that there is no fundamental error later on in the code."
   ]
  },
  {
   "attachments": {},
   "cell_type": "markdown",
   "metadata": {},
   "source": [
    "d) (Optional) Follow along with the live coding. You can write your code here:"
   ]
  },
  {
   "attachments": {},
   "cell_type": "markdown",
   "metadata": {},
   "source": [
    "8 queens - \n",
    "8x8 grid\n",
    "Can't have 2 queens on the same row, same column or the same diagonal\n",
    "\n",
    "\n",
    "Approach - Using DFS and backtracking\n",
    "1. Start with the queen at the top left corner of \n",
    "2. Realize where you CANT put queens\n",
    "3. You have placed 7 queens so far\n",
    "4. Problem for the 8th queen!\n",
    "    1. Change location for last queen and check again and keep backtracking till you get to the problem piece\n",
    "    \n"
   ]
  },
  {
   "cell_type": "code",
   "execution_count": 5,
   "metadata": {},
   "outputs": [
    {
     "name": "stdout",
     "output_type": "stream",
     "text": [
      " -   -   -   -   -   -   -   - \n",
      " -   -   -   -   -   -   -   - \n",
      " -   -   -   -   -   -   -   - \n",
      " -   -   -   -   -   -   -   - \n",
      " -   -   -   -   -   -   -   - \n",
      " -   -   -   -   -   -   -   - \n",
      " -   -   -   -   -   -   -   - \n",
      " -   -   -   -   -   -   -   - \n",
      "\n"
     ]
    },
    {
     "ename": "AttributeError",
     "evalue": "'Board' object has no attribute 'num_queens'",
     "output_type": "error",
     "traceback": [
      "\u001b[1;31m---------------------------------------------------------------------------\u001b[0m",
      "\u001b[1;31mAttributeError\u001b[0m                            Traceback (most recent call last)",
      "\u001b[1;32m<ipython-input-5-df6976d0e404>\u001b[0m in \u001b[0;36m<module>\u001b[1;34m\u001b[0m\n\u001b[0;32m    107\u001b[0m \u001b[0mprint\u001b[0m\u001b[1;33m(\u001b[0m\u001b[0mboard\u001b[0m\u001b[1;33m)\u001b[0m\u001b[1;33m\u001b[0m\u001b[1;33m\u001b[0m\u001b[0m\n\u001b[0;32m    108\u001b[0m \u001b[0mprint\u001b[0m\u001b[1;33m(\u001b[0m\u001b[1;33m)\u001b[0m\u001b[1;33m\u001b[0m\u001b[1;33m\u001b[0m\u001b[0m\n\u001b[1;32m--> 109\u001b[1;33m \u001b[0mboard\u001b[0m\u001b[1;33m.\u001b[0m\u001b[0msearch\u001b[0m\u001b[1;33m(\u001b[0m\u001b[1;33m)\u001b[0m\u001b[1;33m\u001b[0m\u001b[1;33m\u001b[0m\u001b[0m\n\u001b[0m",
      "\u001b[1;32m<ipython-input-5-df6976d0e404>\u001b[0m in \u001b[0;36msearch\u001b[1;34m(self)\u001b[0m\n\u001b[0;32m     80\u001b[0m                     \u001b[0mrow\u001b[0m \u001b[1;33m-=\u001b[0m \u001b[1;36m1\u001b[0m\u001b[1;33m\u001b[0m\u001b[1;33m\u001b[0m\u001b[0m\n\u001b[0;32m     81\u001b[0m \u001b[1;33m\u001b[0m\u001b[0m\n\u001b[1;32m---> 82\u001b[1;33m                 \u001b[1;32mif\u001b[0m \u001b[0mself\u001b[0m\u001b[1;33m.\u001b[0m\u001b[0mis_valid_move\u001b[0m\u001b[1;33m(\u001b[0m\u001b[0mrow\u001b[0m\u001b[1;33m,\u001b[0m \u001b[0mcol\u001b[0m\u001b[1;33m)\u001b[0m\u001b[1;33m:\u001b[0m\u001b[1;33m\u001b[0m\u001b[1;33m\u001b[0m\u001b[0m\n\u001b[0m\u001b[0;32m     83\u001b[0m                     \u001b[0mself\u001b[0m\u001b[1;33m.\u001b[0m\u001b[0mset_queen_at\u001b[0m\u001b[1;33m(\u001b[0m\u001b[0mrow\u001b[0m\u001b[1;33m,\u001b[0m \u001b[0mcol\u001b[0m\u001b[1;33m)\u001b[0m\u001b[1;33m\u001b[0m\u001b[1;33m\u001b[0m\u001b[0m\n\u001b[0;32m     84\u001b[0m                     \u001b[0mrow\u001b[0m \u001b[1;33m+=\u001b[0m \u001b[1;36m1\u001b[0m\u001b[1;33m\u001b[0m\u001b[1;33m\u001b[0m\u001b[0m\n",
      "\u001b[1;32m<ipython-input-5-df6976d0e404>\u001b[0m in \u001b[0;36mis_valid_move\u001b[1;34m(self, row, col)\u001b[0m\n\u001b[0;32m     41\u001b[0m \u001b[1;33m\u001b[0m\u001b[0m\n\u001b[0;32m     42\u001b[0m     \u001b[1;32mdef\u001b[0m \u001b[0mis_valid_move\u001b[0m\u001b[1;33m(\u001b[0m\u001b[0mself\u001b[0m\u001b[1;33m,\u001b[0m \u001b[0mrow\u001b[0m\u001b[1;33m,\u001b[0m \u001b[0mcol\u001b[0m\u001b[1;33m)\u001b[0m\u001b[1;33m:\u001b[0m\u001b[1;33m\u001b[0m\u001b[1;33m\u001b[0m\u001b[0m\n\u001b[1;32m---> 43\u001b[1;33m         \u001b[1;32mif\u001b[0m \u001b[0mself\u001b[0m\u001b[1;33m.\u001b[0m\u001b[0mnum_queens\u001b[0m\u001b[1;33m(\u001b[0m\u001b[1;33m)\u001b[0m \u001b[1;33m>\u001b[0m \u001b[1;36m8\u001b[0m\u001b[1;33m:\u001b[0m\u001b[1;33m\u001b[0m\u001b[1;33m\u001b[0m\u001b[0m\n\u001b[0m\u001b[0;32m     44\u001b[0m             \u001b[1;32mreturn\u001b[0m \u001b[1;32mFalse\u001b[0m\u001b[1;33m\u001b[0m\u001b[1;33m\u001b[0m\u001b[0m\n\u001b[0;32m     45\u001b[0m         \u001b[1;32mif\u001b[0m \u001b[1;32mnot\u001b[0m \u001b[0mself\u001b[0m\u001b[1;33m.\u001b[0m\u001b[0mis_valid_row\u001b[0m\u001b[1;33m(\u001b[0m\u001b[0mrow\u001b[0m\u001b[1;33m)\u001b[0m\u001b[1;33m:\u001b[0m\u001b[1;33m\u001b[0m\u001b[1;33m\u001b[0m\u001b[0m\n",
      "\u001b[1;31mAttributeError\u001b[0m: 'Board' object has no attribute 'num_queens'"
     ]
    }
   ],
   "source": [
    "# Live coding\n",
    "\n",
    "# Code isn't completed yet so if you run, you will encounter an error. \n",
    "# Will be updated by next class\n",
    "\n",
    "import os\n",
    "import time\n",
    "\n",
    "class Board():\n",
    "\n",
    "    def __init__(self):\n",
    "        self.board = [[\" - \" for _ in range(8)] for _ in range(8)]\n",
    "\n",
    "    def __repr__(self):\n",
    "        return \"\\n\".join([\" \".join(x) for x in self.board])\n",
    "\n",
    "    def is_valid_row(self, row):\n",
    "        for j in range(8):\n",
    "            if self.is_queen(row, j):\n",
    "                return False\n",
    "        return True\n",
    "\n",
    "    def is_valid_col(self, col):\n",
    "        for i in range(8):\n",
    "            if self.is_queen(i, col):\n",
    "                return False\n",
    "        return True\n",
    "\n",
    "    def is_valid_diag(self, row, col):\n",
    "        for i in range(8):\n",
    "            if self.is_on_board(row - 1, col - 1) and self.is_queen(row - 1, col - 1):\n",
    "                return False\n",
    "            if self.is_on_board(row - 1, col + 1) and self.is_queen(row - 1, col + 1):\n",
    "                return False\n",
    "            if self.is_on_board(row + 1, col - 1) and self.is_queen(row + 1, col - 1):\n",
    "                return False\n",
    "            if self.is_on_board(row + 1, col + 1) and self.is_queen(row + 1, col + 1):\n",
    "                return False\n",
    "            \n",
    "            return True\n",
    "\n",
    "    def is_valid_move(self, row, col):\n",
    "        if self.num_queens() > 8:\n",
    "            return False\n",
    "        if not self.is_valid_row(row):\n",
    "            return False\n",
    "        if not self.is_valid_col(col):\n",
    "            return False\n",
    "        return True\n",
    "\n",
    "    def set_queen_at(self, row, col):\n",
    "        self.board[row][col] = \" Q \"\n",
    "\n",
    "    def is_queen(self, row, col):\n",
    "        return board\n",
    "\n",
    "    def unset_queen_at(self, row):\n",
    "        self.board[row] = [\" - \" for _ in range(8)]\n",
    "\n",
    "    def find_queen_on(self, row):\n",
    "        for col in range(8):\n",
    "            if self.board[row][col] == \" Q \":\n",
    "                return col\n",
    "        raise ValueError(\"You messed up\")\n",
    "\n",
    "\n",
    "    def search(self):\n",
    "        row = 0 \n",
    "        col = 0\n",
    "        nsolns = 0\n",
    "\n",
    "        while row >= 0:\n",
    "            if row < 8: \n",
    "\n",
    "                while col == 8:\n",
    "                    row -= 1\n",
    "                    if row<0:\n",
    "                        print(\"no more solutions\")\n",
    "                        return\n",
    "                    col = self.find_queen_on(row) + 1 # we have to add another check to see if this is out of bounds\n",
    "                    self.unset_queen_at(row)\n",
    "                    row -= 1\n",
    "                    \n",
    "                if self.is_valid_move(row, col):\n",
    "                    self.set_queen_at(row, col)\n",
    "                    row += 1\n",
    "                    col = 0\n",
    "\n",
    "                    os.system(\"clear\")\n",
    "                    print(self)\n",
    "                    time.sleep(.05)\n",
    "\n",
    "                else:\n",
    "                    col += 1\n",
    "\n",
    "\n",
    "            else:\n",
    "                nsolns += 1\n",
    "                print(f'Found {nsolns} solution')\n",
    "                print(self)\n",
    "                \n",
    "                # resetting the row and column once you find a solution\n",
    "                col = self.find_queen_on(row - 1) + 1\n",
    "                self.unset_queen_at(row - 1)\n",
    "                row -= 1\n",
    "\n",
    "\n",
    "board = Board()\n",
    "print(board)\n",
    "print()\n",
    "board.search()\n"
   ]
  },
  {
   "cell_type": "code",
   "execution_count": null,
   "metadata": {},
   "outputs": [],
   "source": []
  }
 ],
 "metadata": {
  "kernelspec": {
   "display_name": "base",
   "language": "python",
   "name": "python3"
  },
  "language_info": {
   "codemirror_mode": {
    "name": "ipython",
    "version": 3
   },
   "file_extension": ".py",
   "mimetype": "text/x-python",
   "name": "python",
   "nbconvert_exporter": "python",
   "pygments_lexer": "ipython3",
   "version": "3.8.5"
  },
  "orig_nbformat": 4,
  "vscode": {
   "interpreter": {
    "hash": "69e9b2eff848b62a09b50f6825fab20edddb8bffa0d9ff0421ad631685e029c4"
   }
  }
 },
 "nbformat": 4,
 "nbformat_minor": 2
}

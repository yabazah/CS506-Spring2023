{
 "cells": [
  {
   "attachments": {},
   "cell_type": "markdown",
   "metadata": {},
   "source": [
    "# Worksheet 07\n",
    "\n",
    "Name: Risheet Nair \n",
    "UID: U87299654\n",
    "\n",
    "### Topics\n",
    "\n",
    "- Soft Clustering\n",
    "- Clustering Aggregation\n",
    "\n",
    "### Probability Review\n",
    "\n",
    "Read through [the following](https://medium.com/@gallettilance/overview-of-probability-3272b72c82c8)\n",
    "\n",
    "### Soft Clustering\n",
    "\n",
    "We generate 10 data points that come from a normal distribution with mean 5 and variance 1."
   ]
  },
  {
   "cell_type": "code",
   "execution_count": 1,
   "metadata": {},
   "outputs": [
    {
     "name": "stdout",
     "output_type": "stream",
     "text": [
      "[6.753112149363745, 4.098243376813624, 6.640202547180723, 5.705658554525336, 7.9418128136594035, 6.444963399449289, 5.064159218187454, 5.420591130450819, 4.407468055545672, 3.7999883753323505]\n"
     ]
    }
   ],
   "source": [
    "import random\n",
    "import numpy as np\n",
    "from sklearn.cluster import KMeans\n",
    "\n",
    "mean = 5\n",
    "stdev = 1\n",
    "\n",
    "c1 = np.random.normal(mean, stdev, 10).tolist()\n",
    "print(c1)"
   ]
  },
  {
   "cell_type": "markdown",
   "metadata": {},
   "source": [
    "a) Generate 10 more data points, this time coming from a normal distribution with mean 8 and variance 1."
   ]
  },
  {
   "cell_type": "code",
   "execution_count": 2,
   "metadata": {},
   "outputs": [
    {
     "name": "stdout",
     "output_type": "stream",
     "text": [
      "[7.794748613027492, 9.19813794989207, 6.474893377265844, 6.9941413812456945, 7.575493713594621, 8.689971219615474, 7.75112172379489, 8.612669682342748, 7.787204640674512, 8.022508885638198]\n"
     ]
    }
   ],
   "source": [
    "mean = 8\n",
    "stdev = 1\n",
    "\n",
    "c2 = np.random.normal(mean, stdev, 10).tolist()\n",
    "print(c2)"
   ]
  },
  {
   "cell_type": "markdown",
   "metadata": {},
   "source": [
    "b) Flip a fair coin 10 times. If the coin lands on H, then pick the last data point of `c1` and remove it from `c1`, if T then pick the last data point from `c2` and remove it from `c2`. Add these 10 points to a list called `data`."
   ]
  },
  {
   "cell_type": "code",
   "execution_count": 3,
   "metadata": {},
   "outputs": [
    {
     "name": "stdout",
     "output_type": "stream",
     "text": [
      "[8.022508885638198, 3.7999883753323505, 7.787204640674512, 8.612669682342748, 4.407468055545672, 5.420591130450819, 5.064159218187454, 7.75112172379489, 6.444963399449289, 7.9418128136594035]\n"
     ]
    }
   ],
   "source": [
    "data = []\n",
    "for i in range(10):\n",
    "    # flip coin\n",
    "    coin_output = random.choice([0, 1])\n",
    "    if coin_output == 0:\n",
    "        p1 = c1.pop()\n",
    "        data.append(p1)\n",
    "    else:\n",
    "        p2 = c2.pop()\n",
    "        data.append(p2)\n",
    "print(data)"
   ]
  },
  {
   "cell_type": "markdown",
   "metadata": {},
   "source": [
    "c) This `data` is a Gaussian Mixture Distribution with 2 mixture components. Over the next few questions we will walk through the GMM algorithm to see if we can uncover the parameters we used to generate this data. First, please list all these parameters of the GMM that created `data` and the values we know they have."
   ]
  },
  {
   "attachments": {},
   "cell_type": "markdown",
   "metadata": {},
   "source": [
    "The mean for c1 is 5 and stdev for c1 is 1. The mean for c2 is 8 and stdev for c2 is 1."
   ]
  },
  {
   "cell_type": "markdown",
   "metadata": {},
   "source": [
    "d) Let's assume there are two mixture components (note: we could plot the data and make the observation that there are two clusters). The EM algorithm asks us to start with a random `mean_j`, `variance_j`, `P(C_j)` for each component j. One method we could use to find sensible values for these is to apply K means with k=2 here.\n",
    "\n",
    "1. the centroids would be the estimates of the `mean_j`\n",
    "2. the intra-cluster variance could be the estimate of `variance_j`\n",
    "3. the proportion of points in each cluster could be the estimate of `P(C_j)`\n",
    "\n",
    "Go through this process and list the parameter estimates it gives. Are they close or far from the true values?"
   ]
  },
  {
   "cell_type": "code",
   "execution_count": 4,
   "metadata": {},
   "outputs": [
    {
     "name": "stdout",
     "output_type": "stream",
     "text": [
      "[3.7999883753323505, 4.407468055545672, 5.420591130450819, 5.064159218187454]\n",
      "[8.022508885638198, 7.787204640674512, 8.612669682342748, 7.75112172379489, 6.444963399449289, 7.9418128136594035]\n",
      "P(C_1) = 0.4,  P(C_2) = 0.6\n",
      "mean_1 = 4.673051694879074,  mean_2 = 7.760046857593173\n",
      "var_1 = 0.3861386329857142,  var_2 = 0.42652542755216816\n"
     ]
    }
   ],
   "source": [
    "kmeans = KMeans(2, init='k-means++').fit(X=np.array(data).reshape(-1, 1))\n",
    "\n",
    "c1 = [x[0] for x in filter(lambda x: x[1] == 0, zip(data, kmeans.labels_))]\n",
    "print(c1)\n",
    "c2 = [x[0] for x in filter(lambda x: x[1] == 1, zip(data, kmeans.labels_))]\n",
    "print(c2)\n",
    "\n",
    "prob_c = [len(c1) / (len(c1) + len(c2)), len(c2) / (len(c1) + len(c2))]\n",
    "mean = [sum(c1)/len(c1), sum(c2)/len(c2)]\n",
    "var = [ sum(map(lambda x : (x - mean[0])**2, c1)) / len(c1) , sum(map(lambda x : (x - mean[1])**2, c2)) / len(c2) ]\n",
    "\n",
    "print(\"P(C_1) = \" + str(prob_c[0]) + \",  P(C_2) = \" + str(prob_c[1]))\n",
    "print(\"mean_1 = \" + str(mean[0]) + \",  mean_2 = \" + str(mean[1]))\n",
    "print(\"var_1 = \" + str(var[0]) + \",  var_2 = \" + str(var[1]))\n"
   ]
  },
  {
   "attachments": {},
   "cell_type": "markdown",
   "metadata": {},
   "source": [
    "They are pretty close to the true values."
   ]
  },
  {
   "cell_type": "markdown",
   "metadata": {},
   "source": [
    "e) For each data point, compute `P(C_j | X_i)`. Comment on which cluster you think each point belongs to based on the estimated probabilities. How does that compare to the truth?"
   ]
  },
  {
   "cell_type": "code",
   "execution_count": 5,
   "metadata": {},
   "outputs": [
    {
     "name": "stdout",
     "output_type": "stream",
     "text": [
      "point =  8.022508885638198\n",
      "probability of observing that point if it came from cluster 0 =  4.7369414887916683e-17\n",
      "probability of observing that point if it came from cluster 1 =  0.774000715011075\n",
      "point =  3.7999883753323505\n",
      "probability of observing that point if it came from cluster 0 =  0.08018146707630983\n",
      "probability of observing that point if it came from cluster 1 =  1.789002471319756e-19\n",
      "point =  7.787204640674512\n",
      "probability of observing that point if it came from cluster 0 =  7.771285676167146e-15\n",
      "probability of observing that point if it came from cluster 1 =  0.9334365310177565\n",
      "point =  8.612669682342748\n",
      "probability of observing that point if it came from cluster 0 =  2.574241234846768e-23\n",
      "probability of observing that point if it came from cluster 1 =  0.12683748148596286\n",
      "point =  4.407468055545672\n",
      "probability of observing that point if it came from cluster 0 =  0.815536045971379\n",
      "probability of observing that point if it came from cluster 1 =  3.5890840481629066e-14\n",
      "point =  5.420591130450819\n",
      "probability of observing that point if it came from cluster 0 =  0.15861068811598392\n",
      "probability of observing that point if it came from cluster 1 =  2.743114582163917e-07\n",
      "point =  5.064159218187454\n",
      "probability of observing that point if it came from cluster 0 =  0.6185788200114777\n",
      "probability of observing that point if it came from cluster 1 =  1.9769425038398654e-09\n",
      "point =  7.75112172379489\n",
      "probability of observing that point if it came from cluster 0 =  1.6439618560019816e-14\n",
      "probability of observing that point if it came from cluster 1 =  0.9351258398440144\n",
      "point =  6.444963399449289\n",
      "probability of observing that point if it came from cluster 0 =  2.7649372515660587e-05\n",
      "probability of observing that point if it came from cluster 1 =  0.008066280469542868\n",
      "point =  7.9418128136594035\n",
      "probability of observing that point if it came from cluster 0 =  2.8397892633172257e-16\n",
      "probability of observing that point if it came from cluster 1 =  0.854140744146306\n",
      "8.022508885638198\n",
      "Probability of coming from C_1 = 4.0800491928261235e-17\n",
      "Probability of coming from C_2 = 1.0\n",
      "\n",
      "3.7999883753323505\n",
      "Probability of coming from C_1 = 1.0\n",
      "Probability of coming from C_2 = 3.3467879858393034e-18\n",
      "\n",
      "7.787204640674512\n",
      "Probability of coming from C_1 = 5.550304648775506e-15\n",
      "Probability of coming from C_2 = 0.9999999999999944\n",
      "\n",
      "8.612669682342748\n",
      "Probability of coming from C_1 = 1.353039182996634e-22\n",
      "Probability of coming from C_2 = 1.0\n",
      "\n",
      "4.407468055545672\n",
      "Probability of coming from C_1 = 0.9999999999999339\n",
      "Probability of coming from C_2 = 6.601334298880201e-14\n",
      "\n",
      "5.420591130450819\n",
      "Probability of coming from C_1 = 0.9999974058108896\n",
      "Probability of coming from C_2 = 2.594189110383322e-06\n",
      "\n",
      "5.064159218187454\n",
      "Probability of coming from C_1 = 0.9999999952060858\n",
      "Probability of coming from C_2 = 4.793914123165154e-09\n",
      "\n",
      "7.75112172379489\n",
      "Probability of coming from C_1 = 1.1720075779862861e-14\n",
      "Probability of coming from C_2 = 0.9999999999999883\n",
      "\n",
      "6.444963399449289\n",
      "Probability of coming from C_1 = 0.002279971364929078\n",
      "Probability of coming from C_2 = 0.9977200286350709\n",
      "\n",
      "7.9418128136594035\n",
      "Probability of coming from C_1 = 2.2164881551268066e-16\n",
      "Probability of coming from C_2 = 0.9999999999999998\n",
      "\n"
     ]
    }
   ],
   "source": [
    "from scipy.stats import norm\n",
    "\n",
    "prob_c0_x = [] # P(C_0 | X_i)\n",
    "prob_c1_x = [] # P(C_1 | X_i)\n",
    "prob_x = [] # P(X_i)\n",
    "\n",
    "k = 2\n",
    "\n",
    "for p in data:\n",
    "    print(\"point = \", p)\n",
    "    pdf_i = []\n",
    "\n",
    "    for j in range(k):\n",
    "        # P(X_i | C_j)\n",
    "        pdf_i.append(norm.pdf(p, mean[j], var[j]))\n",
    "        print(\"probability of observing that point if it came from cluster \" + str(j) + \" = \", pdf_i[j])\n",
    "        # P(C_j) already computed\n",
    "        prob_c[j]\n",
    "\n",
    "    # P(X_i) = P(C_0)P(X_i | C_0) + P(C_1)P(X_i | C_1)\n",
    "    prob_x = prob_c[0] * pdf_i[0] + prob_c[1] * pdf_i[1]\n",
    "\n",
    "    # P(C_j | X_i) = P(X_i | C_j)P(C_j) / P(X_i)\n",
    "    prob_c0_x.append(pdf_i[0] * prob_c[0] / prob_x)\n",
    "    prob_c1_x.append(pdf_i[1] * prob_c[1] / prob_x)\n",
    "\n",
    "probs = zip(data, prob_c0_x, prob_c1_x)\n",
    "for p in probs:\n",
    "    print(p[0])\n",
    "    print(\"Probability of coming from C_1 = \" + str(p[1]))\n",
    "    print(\"Probability of coming from C_2 = \" + str(p[2]))\n",
    "    print()\n"
   ]
  },
  {
   "cell_type": "markdown",
   "metadata": {},
   "source": [
    "f) Having computed `P(C_j | X_i)`, update the estimates of `mean_j`, `var_j`, and `P(C_j)`. How different are these values from the original ones you got from K means? briefly comment."
   ]
  },
  {
   "cell_type": "code",
   "execution_count": 7,
   "metadata": {},
   "outputs": [
    {
     "name": "stdout",
     "output_type": "stream",
     "text": [
      "P(C_1) = 0.40022773723818555,  P(C_2) = 0.5997722627618144\n",
      "mean_1 = 4.674060612162505,  mean_2 = 7.760545758742526\n",
      "var_1 = 0.3877061041416945,  var_2 = 0.4260320758640485\n"
     ]
    }
   ],
   "source": [
    "prob_c = [sum(prob_c0_x) / len(prob_c0_x), sum(prob_c1_x) / len(prob_c1_x)]\n",
    "mean = [sum([x[0] * x[1] for x in zip(prob_c0_x, data)]) / sum(prob_c0_x), sum([x[0] * x[1] for x in zip(prob_c1_x, data)]) / sum(prob_c1_x)]\n",
    "var = [sum([prob_c0_x[i] * (data[i] - mean[0])**2 for i in range(len(data))]) / sum(prob_c0_x), sum([prob_c1_x[i] * (data[i] - mean[1])**2 for i in range(len(data))]) / sum(prob_c1_x)]\n",
    "\n",
    "print(\"P(C_1) = \" + str(prob_c[0]) + \",  P(C_2) = \" + str(prob_c[1]))\n",
    "print(\"mean_1 = \" + str(mean[0]) + \",  mean_2 = \" + str(mean[1]))\n",
    "print(\"var_1 = \" + str(var[0]) + \",  var_2 = \" + str(var[1]))\n"
   ]
  },
  {
   "attachments": {},
   "cell_type": "markdown",
   "metadata": {},
   "source": [
    "These values aren't that different. The variances are marginally closer to what they should be."
   ]
  },
  {
   "cell_type": "markdown",
   "metadata": {},
   "source": [
    "g) Update `P(C_j | X_i)`. Comment on any differences or lack thereof you observe."
   ]
  },
  {
   "cell_type": "code",
   "execution_count": 8,
   "metadata": {},
   "outputs": [
    {
     "name": "stdout",
     "output_type": "stream",
     "text": [
      "8.022508885638198\n",
      "Probability of coming from C_1 = 5.627304626450461e-17\n",
      "Probability of coming from C_2 = 1.0\n",
      "\n",
      "3.7999883753323505\n",
      "Probability of coming from C_1 = 1.0\n",
      "Probability of coming from C_2 = 2.9645695230716796e-18\n",
      "\n",
      "7.787204640674512\n",
      "Probability of coming from C_1 = 7.33642314249791e-15\n",
      "Probability of coming from C_2 = 0.9999999999999927\n",
      "\n",
      "8.612669682342748\n",
      "Probability of coming from C_1 = 2.1102594249075408e-22\n",
      "Probability of coming from C_2 = 1.0\n",
      "\n",
      "4.407468055545672\n",
      "Probability of coming from C_1 = 0.9999999999999388\n",
      "Probability of coming from C_2 = 6.114150430067148e-14\n",
      "\n",
      "5.420591130450819\n",
      "Probability of coming from C_1 = 0.9999975499495664\n",
      "Probability of coming from C_2 = 2.4500504335589064e-06\n",
      "\n",
      "5.064159218187454\n",
      "Probability of coming from C_1 = 0.9999999954680795\n",
      "Probability of coming from C_2 = 4.531920518087663e-09\n",
      "\n",
      "7.75112172379489\n",
      "Probability of coming from C_1 = 1.5396011568937063e-14\n",
      "Probability of coming from C_2 = 0.9999999999999846\n",
      "\n",
      "6.444963399449289\n",
      "Probability of coming from C_1 = 0.0025373634257632237\n",
      "Probability of coming from C_2 = 0.9974626365742367\n",
      "\n",
      "7.9418128136594035\n",
      "Probability of coming from C_1 = 3.011521769759401e-16\n",
      "Probability of coming from C_2 = 0.9999999999999998\n",
      "\n"
     ]
    }
   ],
   "source": [
    "# essentially just a copy paste of part e\n",
    "prob_c0_x = []\n",
    "prob_c1_x = []\n",
    "\n",
    "for p in data:\n",
    "    pdf_i = [norm.pdf(p, mean[j], var[j]) for j in range(k)]\n",
    "    prob_x = prob_c[0] * pdf_i[0] + prob_c[1] * pdf_i[1]\n",
    "\n",
    "    prob_c0_x.append(pdf_i[0] * prob_c[0] / prob_x)\n",
    "    prob_c1_x.append(pdf_i[1] * prob_c[1] / prob_x)\n",
    "\n",
    "probs = zip(data, prob_c0_x, prob_c1_x)\n",
    "for p in probs:\n",
    "    print(p[0])\n",
    "    print(\"Probability of coming from C_1 = \" + str(p[1]))\n",
    "    print(\"Probability of coming from C_2 = \" + str(p[2]))\n",
    "    print()\n"
   ]
  },
  {
   "attachments": {},
   "cell_type": "markdown",
   "metadata": {},
   "source": [
    "There seem to be a lot more definitive decisions being made(probability of 1) which wasn't really happening with the kmeans implementation."
   ]
  },
  {
   "cell_type": "markdown",
   "metadata": {},
   "source": [
    "h) Use `P(C_j | X_i)` to create a hard assignment - label each point as belonging to a specific cluster (0 or 1)"
   ]
  },
  {
   "cell_type": "code",
   "execution_count": 9,
   "metadata": {},
   "outputs": [
    {
     "name": "stdout",
     "output_type": "stream",
     "text": [
      "[1, 0, 1, 1, 0, 0, 0, 1, 1, 1]\n"
     ]
    }
   ],
   "source": [
    "labels = []\n",
    "\n",
    "for i in range(len(data)):\n",
    "    if prob_c0_x[i] > prob_c1_x[i]:\n",
    "        labels.append(0)\n",
    "    else:\n",
    "        labels.append(1)\n",
    "\n",
    "print(labels)"
   ]
  },
  {
   "cell_type": "markdown",
   "metadata": {},
   "source": [
    "### Clustering Aggregation\n",
    "\n",
    "| Point | C | P |\n",
    "|-------|---|---|\n",
    "| A     | 0 | a |\n",
    "| B     | 0 | b |\n",
    "| C     | 2 | b |\n",
    "| D     | 1 | c |\n",
    "| E     | 1 | d |\n",
    "\n",
    "a) Fill in the following table where for each pair of points determine whether C and P agree or disagree on how to cluster that pair."
   ]
  },
  {
   "cell_type": "markdown",
   "metadata": {},
   "source": [
    "| Pair | Disagreement |\n",
    "|------|--------------|\n",
    "| A  B |      ?       |\n",
    "| A  C |      ?       |\n",
    "| A  D |      ?       |\n",
    "| A  E |      ?       |\n",
    "| B  C |      ?       |\n",
    "| B  D |      ?       |\n",
    "| B  E |      ?       |\n",
    "| C  D |      ?       |\n",
    "| C  E |      ?       |\n",
    "| D  E |      ?       |\n"
   ]
  },
  {
   "cell_type": "markdown",
   "metadata": {},
   "source": [
    "As datasets become very large, this process can become computationally challenging.\n",
    "\n",
    "b) Given N points, what is the formula for the number of unique pairs of points one can create?"
   ]
  },
  {
   "cell_type": "markdown",
   "metadata": {},
   "source": []
  },
  {
   "cell_type": "markdown",
   "metadata": {},
   "source": [
    "Assume that clustering C clusters all points in the same cluster and clustering P clusters points as such:\n",
    "\n",
    "| Point | P |\n",
    "|-------|---|\n",
    "| A     | 0 |\n",
    "| B     | 0 |\n",
    "| C     | 0 |\n",
    "| D     | 1 |\n",
    "| E     | 1 |\n",
    "| F     | 2 |\n",
    "| G     | 2 |\n",
    "| H     | 2 |\n",
    "| I     | 2 |\n",
    "\n",
    "c) What is the maximum number of disagreements there could be for a dataset of this size? (use the formula from b)?"
   ]
  },
  {
   "cell_type": "markdown",
   "metadata": {},
   "source": []
  },
  {
   "cell_type": "markdown",
   "metadata": {},
   "source": [
    "d) If we look at cluster 0. There are (3 x 2) / 2 = 3 pairs that agree with C (since all points in C are in the same cluster). For each cluster, determine how many agreements there are. How many total agreements are there? How many disagreements does that mean there are between C and P?"
   ]
  },
  {
   "cell_type": "markdown",
   "metadata": {},
   "source": []
  },
  {
   "cell_type": "markdown",
   "metadata": {},
   "source": [
    "e) Assuming that filtering the dataset by cluster number is a computationally easy operation, describe an algorithm inspired by the above process that can efficiently compute disagreement distances on large datasets."
   ]
  },
  {
   "cell_type": "markdown",
   "metadata": {},
   "source": []
  }
 ],
 "metadata": {
  "kernelspec": {
   "display_name": "Python 3",
   "language": "python",
   "name": "python3"
  },
  "language_info": {
   "codemirror_mode": {
    "name": "ipython",
    "version": 3
   },
   "file_extension": ".py",
   "mimetype": "text/x-python",
   "name": "python",
   "nbconvert_exporter": "python",
   "pygments_lexer": "ipython3",
   "version": "3.7.2"
  },
  "orig_nbformat": 4,
  "vscode": {
   "interpreter": {
    "hash": "e534e48711db4d1e1c48977d0d14ff85b1f16d41bcc4fdfd88268a329b3c9d66"
   }
  }
 },
 "nbformat": 4,
 "nbformat_minor": 2
}

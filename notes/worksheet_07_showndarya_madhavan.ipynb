{
 "cells": [
  {
   "cell_type": "markdown",
   "metadata": {},
   "source": [
    "# Worksheet 07\n",
    "\n",
    "Name: SHOWNDARYA MADHAVAN \n",
    "UID: U10380918\n",
    "\n",
    "### Topics\n",
    "\n",
    "- Soft Clustering\n",
    "- Clustering Aggregation\n",
    "\n",
    "### Probability Review\n",
    "\n",
    "Read through [the following](https://medium.com/@gallettilance/overview-of-probability-3272b72c82c8)\n",
    "\n",
    "### Soft Clustering\n",
    "\n",
    "We generate 10 data points that come from a normal distribution with mean 5 and variance 1."
   ]
  },
  {
   "cell_type": "code",
   "execution_count": 1,
   "metadata": {},
   "outputs": [
    {
     "name": "stdout",
     "output_type": "stream",
     "text": [
      "[3.8072423628854013, 6.398917522822156, 4.698397431813143, 3.3786991768109917, 2.928225559916981, 3.8750909456607396, 6.978272567435605, 5.838260281060971, 6.909724724083313, 3.2131845581151435]\n"
     ]
    }
   ],
   "source": [
    "import random\n",
    "import numpy as np\n",
    "from sklearn.cluster import KMeans\n",
    "\n",
    "mean = 5\n",
    "stdev = 1\n",
    "\n",
    "c1 = np.random.normal(mean, stdev, 10).tolist()\n",
    "print(c1)\n"
   ]
  },
  {
   "cell_type": "markdown",
   "metadata": {},
   "source": [
    "a) Generate 10 more data points, this time coming from a normal distribution with mean 8 and variance 1."
   ]
  },
  {
   "cell_type": "code",
   "execution_count": 2,
   "metadata": {},
   "outputs": [
    {
     "name": "stdout",
     "output_type": "stream",
     "text": [
      "[5.7056401866709585, 8.155270729530452, 7.556262626012456, 8.219751163914957, 9.542533901670765, 8.756356224563282, 7.98273528074294, 8.464532754221539, 8.049033394952934, 7.375064125088716]\n"
     ]
    }
   ],
   "source": [
    "c2 = np.random.normal( 8 , 1 , 10 ).tolist()\n",
    "print(c2)"
   ]
  },
  {
   "cell_type": "markdown",
   "metadata": {},
   "source": [
    "b) Flip a fair coin 10 times. If the coin lands on H, then pick the last data point of `c1` and remove it from `c1`, if T then pick the last data point from `c2` and remove it from `c2`. Add these 10 points to a list called `data`."
   ]
  },
  {
   "cell_type": "code",
   "execution_count": 3,
   "metadata": {},
   "outputs": [
    {
     "name": "stdout",
     "output_type": "stream",
     "text": [
      "[3.2131845581151435, 6.909724724083313, 5.838260281060971, 7.375064125088716, 6.978272567435605, 8.049033394952934, 8.464532754221539, 7.98273528074294, 3.8750909456607396, 8.756356224563282]\n"
     ]
    }
   ],
   "source": [
    "data = []\n",
    "for i in range(10):\n",
    "    # flip coin\n",
    "    coin_output = random.choice([0, 1])\n",
    "    if coin_output == 0:\n",
    "        p1 =  c1.pop()\n",
    "        data.append(p1)\n",
    "    else:\n",
    "        p2 = c2.pop()\n",
    "        data.append(p2)\n",
    "print(data)"
   ]
  },
  {
   "cell_type": "markdown",
   "metadata": {},
   "source": [
    "c) This `data` is a Gaussian Mixture Distribution with 2 mixture components. Over the next few questions we will walk through the GMM algorithm to see if we can uncover the parameters we used to generate this data. First, please list all these parameters of the GMM that created `data` and the values we know they have."
   ]
  },
  {
   "cell_type": "markdown",
   "metadata": {},
   "source": []
  },
  {
   "cell_type": "markdown",
   "metadata": {},
   "source": [
    "d) Let's assume there are two mixture components (note: we could plot the data and make the observation that there are two clusters). The EM algorithm asks us to start with a random `mean_j`, `variance_j`, `P(C_j)` for each component j. One method we could use to find sensible values for these is to apply K means with k=2 here.\n",
    "\n",
    "1. the centroids would be the estimates of the `mean_j`\n",
    "2. the intra-cluster variance could be the estimate of `variance_j`\n",
    "3. the proportion of points in each cluster could be the estimate of `P(C_j)`\n",
    "\n",
    "Go through this process and list the parameter estimates it gives. Are they close or far from the true values?"
   ]
  },
  {
   "cell_type": "code",
   "execution_count": 4,
   "metadata": {},
   "outputs": [
    {
     "name": "stdout",
     "output_type": "stream",
     "text": [
      "[6.909724724083313, 5.838260281060971, 7.375064125088716, 6.978272567435605, 8.049033394952934, 8.464532754221539, 7.98273528074294, 8.756356224563282]\n",
      "[3.2131845581151435, 3.8750909456607396]\n",
      "P(C_1) = 0.8,  P(C_2) = 0.2\n",
      "mean_1 = 7.544247419018663,  mean_2 = 3.5441377518879413\n",
      "var_1 = 0.8031468782352829,  var_2 = 16.110407365541064\n"
     ]
    }
   ],
   "source": [
    "kmeans = KMeans(2, init='k-means++').fit(X=np.array(data).reshape(-1, 1))\n",
    "\n",
    "c1 = [x[0] for x in filter(lambda x: x[1] == 0, zip(data, kmeans.labels_))]\n",
    "print(c1)\n",
    "c2 = [x[0] for x in filter(lambda x: x[1] == 1, zip(data, kmeans.labels_))]\n",
    "print(c2)\n",
    "\n",
    "prob_c = [ len(c1) / (len(c1) + len(c2)) , len(c2) / (len(c1) + len(c2)) ]\n",
    "mean = [ sum(c1)/len(c1) , sum(c2)/len(c2) ]\n",
    "var = [ sum(map(lambda x : (x - mean[0])**2, c1)) / len(c1) , sum(map(lambda x : (x - mean[0])**2, c2)) / len(c2) ]\n",
    "\n",
    "print(\"P(C_1) = \" + str(prob_c[0]) + \",  P(C_2) = \" + str(prob_c[1]))\n",
    "print(\"mean_1 = \" + str(mean[0]) + \",  mean_2 = \" + str(mean[1]))\n",
    "print(\"var_1 = \" + str(var[0]) + \",  var_2 = \" + str(var[1]))"
   ]
  },
  {
   "cell_type": "markdown",
   "metadata": {},
   "source": [
    "The points are far from the true values"
   ]
  },
  {
   "cell_type": "markdown",
   "metadata": {},
   "source": [
    "e) For each data point, compute `P(C_j | X_i)`. Comment on which cluster you think each point belongs to based on the estimated probabilities. How does that compare to the truth?"
   ]
  },
  {
   "cell_type": "code",
   "execution_count": 5,
   "metadata": {},
   "outputs": [
    {
     "name": "stdout",
     "output_type": "stream",
     "text": [
      "point =  3.2131845581151435\n",
      "probability of observing that point if it came from cluster 0 =  2.4066123273273237e-07\n",
      "probability of observing that point if it came from cluster 1 =  0.02475779177560986\n",
      "point =  6.909724724083313\n",
      "probability of observing that point if it came from cluster 0 =  0.36356145728096995\n",
      "probability of observing that point if it came from cluster 1 =  0.024228510610132092\n",
      "point =  5.838260281060971\n",
      "probability of observing that point if it came from cluster 0 =  0.05204317008268072\n",
      "probability of observing that point if it came from cluster 1 =  0.024513215439253593\n",
      "point =  7.375064125088716\n",
      "probability of observing that point if it came from cluster 0 =  0.4858245732974099\n",
      "probability of observing that point if it came from cluster 1 =  0.024072707721552084\n",
      "point =  6.978272567435605\n",
      "probability of observing that point if it came from cluster 0 =  0.38750772599750655\n",
      "probability of observing that point if it came from cluster 1 =  0.024206764897269358\n",
      "point =  8.049033394952934\n",
      "probability of observing that point if it came from cluster 0 =  0.4076960424292622\n",
      "probability of observing that point if it came from cluster 1 =  0.023813574927340618\n",
      "point =  8.464532754221539\n",
      "probability of observing that point if it came from cluster 0 =  0.2576363358196382\n",
      "probability of observing that point if it came from cluster 1 =  0.023634592884208293\n",
      "point =  7.98273528074294\n",
      "probability of observing that point if it came from cluster 0 =  0.4279460073818375\n",
      "probability of observing that point if it came from cluster 1 =  0.02384079178456343\n",
      "point =  3.8750909456607396\n",
      "probability of observing that point if it came from cluster 0 =  1.4589579792581616e-05\n",
      "probability of observing that point if it came from cluster 1 =  0.02475779177560986\n",
      "point =  8.756356224563282\n",
      "probability of observing that point if it came from cluster 0 =  0.15904592004796184\n",
      "probability of observing that point if it came from cluster 1 =  0.023500344083502458\n",
      "3.2131845581151435\n",
      "Probability of coming from C_1 = 3.888099193440375e-05\n",
      "Probability of coming from C_2 = 0.9999611190080656\n",
      "\n",
      "6.909724724083313\n",
      "Probability of coming from C_1 = 0.983612491634795\n",
      "Probability of coming from C_2 = 0.016387508365205024\n",
      "\n",
      "5.838260281060971\n",
      "Probability of coming from C_1 = 0.8946510472491795\n",
      "Probability of coming from C_2 = 0.10534895275082048\n",
      "\n",
      "7.375064125088716\n",
      "Probability of coming from C_1 = 0.9877640222863899\n",
      "Probability of coming from C_2 = 0.012235977713610072\n",
      "\n",
      "6.978272567435605\n",
      "Probability of coming from C_1 = 0.9846231827787609\n",
      "Probability of coming from C_2 = 0.015376817221239037\n",
      "\n",
      "8.049033394952934\n",
      "Probability of coming from C_1 = 0.9856076348439248\n",
      "Probability of coming from C_2 = 0.014392365156075261\n",
      "\n",
      "8.464532754221539\n",
      "Probability of coming from C_1 = 0.9775801150510997\n",
      "Probability of coming from C_2 = 0.02241988494890042\n",
      "\n",
      "7.98273528074294\n",
      "Probability of coming from C_1 = 0.9862638563980994\n",
      "Probability of coming from C_2 = 0.013736143601900555\n",
      "\n",
      "3.8750909456607396\n",
      "Probability of coming from C_1 = 0.0023516266200614864\n",
      "Probability of coming from C_2 = 0.9976483733799385\n",
      "\n",
      "8.756356224563282\n",
      "Probability of coming from C_1 = 0.9643763632000683\n",
      "Probability of coming from C_2 = 0.03562363679993181\n",
      "\n"
     ]
    }
   ],
   "source": [
    "from scipy.stats import norm\n",
    "\n",
    "prob_c0_x = [] # P(C_0 | X_i)\n",
    "prob_c1_x = [] # P(C_1 | X_i)\n",
    "prob_x = [] # P(X_i)\n",
    "\n",
    "k = 2\n",
    "\n",
    "for p in data:\n",
    "    print(\"point = \", p)\n",
    "    pdf_i = []\n",
    "\n",
    "    for j in range(k):\n",
    "        # P(X_i | C_j)\n",
    "        pdf_i.append(norm.pdf(p, mean[j], var[j]))\n",
    "        print(\"probability of observing that point if it came from cluster \" + str(j) + \" = \", pdf_i[j])\n",
    "        # P(C_j) already computed\n",
    "        prob_c[j]\n",
    "\n",
    "    # P(X_i) = P(C_0)P(X_i | C_0) + P(C_1)P(X_i | C_1)\n",
    "    prob_x = prob_c[0] * pdf_i[0] + prob_c[1] * pdf_i[1]\n",
    "\n",
    "    # P(C_j | X_i) = P(X_i | C_j)P(C_j) / P(X_i)\n",
    "    prob_c0_x.append( pdf_i[0]* prob_c[0]/prob_x )\n",
    "    prob_c1_x.append( pdf_i[1]* prob_c[1]/prob_x )\n",
    "\n",
    "probs = zip(data, prob_c0_x, prob_c1_x)\n",
    "for p in probs:\n",
    "    print(p[0])\n",
    "    print(\"Probability of coming from C_1 = \" + str(p[1]))\n",
    "    print(\"Probability of coming from C_2 = \" + str(p[2]))\n",
    "    print()\n"
   ]
  },
  {
   "cell_type": "markdown",
   "metadata": {},
   "source": [
    "f) Having computed `P(C_j | X_i)`, update the estimates of `mean_j`, `var_j`, and `P(C_j)`. How different are these values from the original ones you got from K means? briefly comment."
   ]
  },
  {
   "cell_type": "code",
   "execution_count": 6,
   "metadata": {},
   "outputs": [
    {
     "name": "stdout",
     "output_type": "stream",
     "text": [
      "P(C_1) = 0.7766869221054313,  P(C_2) = 0.22331307789456867\n",
      "mean_1 = 7.559053606991862,  mean_2 = 3.910238548412796\n",
      "var_1 = 0.8033661014375807,  var_2 = 16.22907934003326\n"
     ]
    }
   ],
   "source": [
    "prob_c = [sum(prob_c0_x)/ len(prob_c0_x), sum(prob_c1_x)/ len(prob_c1_x) ]\n",
    "mean = [sum([x[0] * x[1] for x in zip(prob_c0_x, data)]) / sum(prob_c0_x), sum([x[0] * x[1] for x in zip(prob_c1_x, data)]) / sum(prob_c1_x) ]\n",
    "var = [ sum(map(lambda x : (x - mean[0])**2, c1)) / len(c1) , sum(map(lambda x : (x - mean[0])**2, c2)) / len(c2) ]\n",
    "\n",
    "print(\"P(C_1) = \" + str(prob_c[0]) + \",  P(C_2) = \" + str(prob_c[1]))\n",
    "print(\"mean_1 = \" + str(mean[0]) + \",  mean_2 = \" + str(mean[1]))\n",
    "print(\"var_1 = \" + str(var[0]) + \",  var_2 = \" + str(var[1]))"
   ]
  },
  {
   "cell_type": "markdown",
   "metadata": {},
   "source": [
    "The PC1 has increased but the PC2 has decreased. The mean for 1 has increaed by for 2 has decreased. The variances of 1 has increased but 2 has decreased."
   ]
  },
  {
   "cell_type": "markdown",
   "metadata": {},
   "source": [
    "g) Update `P(C_j | X_i)`. Comment on any differences or lack thereof you observe."
   ]
  },
  {
   "cell_type": "code",
   "execution_count": 7,
   "metadata": {},
   "outputs": [
    {
     "name": "stdout",
     "output_type": "stream",
     "text": [
      "point =  3.2131845581151435\n",
      "probability of observing that point if it came from cluster 0 =  2.1953728599869998e-07\n",
      "probability of observing that point if it came from cluster 1 =  0.024559277881808516\n",
      "point =  6.909724724083313\n",
      "probability of observing that point if it came from cluster 0 =  0.3582099205622016\n",
      "probability of observing that point if it came from cluster 1 =  0.0241656586105285\n",
      "point =  5.838260281060971\n",
      "probability of observing that point if it came from cluster 0 =  0.05008514513401117\n",
      "probability of observing that point if it came from cluster 1 =  0.024409083061536073\n",
      "point =  7.375064125088716\n",
      "probability of observing that point if it came from cluster 0 =  0.48373424854113617\n",
      "probability of observing that point if it came from cluster 1 =  0.024028053817048763\n",
      "point =  6.978272567435605\n",
      "probability of observing that point if it came from cluster 0 =  0.38239128097814723\n",
      "probability of observing that point if it came from cluster 1 =  0.024146585810335082\n",
      "point =  8.049033394952934\n",
      "probability of observing that point if it came from cluster 0 =  0.4123066332928691\n",
      "probability of observing that point if it came from cluster 1 =  0.023795431933514924\n",
      "point =  8.464532754221539\n",
      "probability of observing that point if it came from cluster 0 =  0.26311125803234986\n",
      "probability of observing that point if it came from cluster 1 =  0.023632827562952135\n",
      "point =  7.98273528074294\n",
      "probability of observing that point if it came from cluster 0 =  0.4321164236138916\n",
      "probability of observing that point if it came from cluster 1 =  0.02382003634108065\n",
      "point =  3.8750909456607396\n",
      "probability of observing that point if it came from cluster 0 =  1.3482390676388303e-05\n",
      "probability of observing that point if it came from cluster 1 =  0.024581883941649174\n",
      "point =  8.756356224563282\n",
      "probability of observing that point if it came from cluster 0 =  0.16355983741499572\n",
      "probability of observing that point if it came from cluster 1 =  0.023510073841163655\n",
      "3.2131845581151435\n",
      "Probability of coming from C_1 = 3.108930624592126e-05\n",
      "Probability of coming from C_2 = 0.999968910693754\n",
      "\n",
      "6.909724724083313\n",
      "Probability of coming from C_1 = 0.9809723154667795\n",
      "Probability of coming from C_2 = 0.01902768453322051\n",
      "\n",
      "5.838260281060971\n",
      "Probability of coming from C_1 = 0.8770980337609985\n",
      "Probability of coming from C_2 = 0.12290196623900147\n",
      "\n",
      "7.375064125088716\n",
      "Probability of coming from C_1 = 0.9859193943975653\n",
      "Probability of coming from C_2 = 0.01408060560243469\n",
      "\n",
      "6.978272567435605\n",
      "Probability of coming from C_1 = 0.9821679338174637\n",
      "Probability of coming from C_2 = 0.017832066182536167\n",
      "\n",
      "8.049033394952934\n",
      "Probability of coming from C_1 = 0.9836772228691727\n",
      "Probability of coming from C_2 = 0.0163227771308273\n",
      "\n",
      "8.464532754221539\n",
      "Probability of coming from C_1 = 0.9748249096378507\n",
      "Probability of coming from C_2 = 0.025175090362149294\n",
      "\n",
      "7.98273528074294\n",
      "Probability of coming from C_1 = 0.9843979907804572\n",
      "Probability of coming from C_2 = 0.015602009219542717\n",
      "\n",
      "3.8750909456607396\n",
      "Probability of coming from C_1 = 0.0019039516470152418\n",
      "Probability of coming from C_2 = 0.9980960483529847\n",
      "\n",
      "8.756356224563282\n",
      "Probability of coming from C_1 = 0.9603121202578592\n",
      "Probability of coming from C_2 = 0.0396878797421408\n",
      "\n"
     ]
    }
   ],
   "source": [
    "from scipy.stats import norm\n",
    "\n",
    "prob_c0_x = [] # P(C_0 | X_i)\n",
    "prob_c1_x = [] # P(C_1 | X_i)\n",
    "prob_x = [] # P(X_i)\n",
    "\n",
    "k = 2\n",
    "\n",
    "for p in data:\n",
    "    print(\"point = \", p)\n",
    "    pdf_i = []\n",
    "\n",
    "    for j in range(k):\n",
    "        # P(X_i | C_j)\n",
    "        pdf_i.append(norm.pdf(p, mean[j], var[j]))\n",
    "        print(\"probability of observing that point if it came from cluster \" + str(j) + \" = \", pdf_i[j])\n",
    "        # P(C_j) already computed\n",
    "        prob_c[j]\n",
    "\n",
    "    # P(X_i) = P(C_0)P(X_i | C_0) + P(C_1)P(X_i | C_1)\n",
    "    prob_x = prob_c[0] * pdf_i[0] + prob_c[1] * pdf_i[1]\n",
    "\n",
    "    # P(C_j | X_i) = P(X_i | C_j)P(C_j) / P(X_i)\n",
    "    prob_c0_x.append( pdf_i[0]* prob_c[0]/prob_x )\n",
    "    prob_c1_x.append( pdf_i[1]* prob_c[1]/prob_x )\n",
    "\n",
    "probs = zip(data, prob_c0_x, prob_c1_x)\n",
    "for p in probs:\n",
    "    print(p[0])\n",
    "    print(\"Probability of coming from C_1 = \" + str(p[1]))\n",
    "    print(\"Probability of coming from C_2 = \" + str(p[2]))\n",
    "    print()"
   ]
  },
  {
   "cell_type": "markdown",
   "metadata": {},
   "source": [
    "Some points still remained in the same cluster, but some probablities changed so the clusters are reassigned"
   ]
  },
  {
   "cell_type": "markdown",
   "metadata": {},
   "source": [
    "h) Use `P(C_j | X_i)` to create a hard assignment - label each point as belonging to a specific cluster (0 or 1)"
   ]
  },
  {
   "cell_type": "code",
   "execution_count": 8,
   "metadata": {},
   "outputs": [
    {
     "name": "stdout",
     "output_type": "stream",
     "text": [
      "3.2131845581151435 is in cluster 1\n",
      "6.909724724083313 is in cluster 0\n",
      "5.838260281060971 is in cluster 0\n",
      "7.375064125088716 is in cluster 0\n",
      "6.978272567435605 is in cluster 0\n",
      "8.049033394952934 is in cluster 0\n",
      "8.464532754221539 is in cluster 0\n",
      "7.98273528074294 is in cluster 0\n",
      "3.8750909456607396 is in cluster 1\n",
      "8.756356224563282 is in cluster 0\n"
     ]
    }
   ],
   "source": [
    "probabilities= zip(data, prob_c0_x, prob_c1_x)\n",
    "for prob in probabilities:\n",
    "    if prob[1]>prob[2]:\n",
    "        print(str(prob[0])+\" is in cluster 0\")\n",
    "    else:\n",
    "        print(str(prob[0])+\" is in cluster 1\")"
   ]
  },
  {
   "cell_type": "markdown",
   "metadata": {},
   "source": [
    "### Clustering Aggregation\n",
    "\n",
    "| Point | C | P |\n",
    "|-------|---|---|\n",
    "| A     | 0 | a |\n",
    "| B     | 0 | b |\n",
    "| C     | 2 | b |\n",
    "| D     | 1 | c |\n",
    "| E     | 1 | d |\n",
    "\n",
    "a) Fill in the following table where for each pair of points determine whether C and P agree or disagree on how to cluster that pair."
   ]
  },
  {
   "cell_type": "markdown",
   "metadata": {},
   "source": [
    "| Pair | Disagreement |\n",
    "|------|--------------|\n",
    "| A  B |      ?       |\n",
    "| A  C |      ?       |\n",
    "| A  D |      ?       |\n",
    "| A  E |      ?       |\n",
    "| B  C |      ?       |\n",
    "| B  D |      ?       |\n",
    "| B  E |      ?       |\n",
    "| C  D |      ?       |\n",
    "| C  E |      ?       |\n",
    "| D  E |      ?       |\n"
   ]
  },
  {
   "cell_type": "markdown",
   "metadata": {},
   "source": [
    "As datasets become very large, this process can become computationally challenging.\n",
    "\n",
    "b) Given N points, what is the formula for the number of unique pairs of points one can create?"
   ]
  },
  {
   "cell_type": "markdown",
   "metadata": {},
   "source": []
  },
  {
   "cell_type": "markdown",
   "metadata": {},
   "source": [
    "Assume that clustering C clusters all points in the same cluster and clustering P clusters points as such:\n",
    "\n",
    "| Point | P |\n",
    "|-------|---|\n",
    "| A     | 0 |\n",
    "| B     | 0 |\n",
    "| C     | 0 |\n",
    "| D     | 1 |\n",
    "| E     | 1 |\n",
    "| F     | 2 |\n",
    "| G     | 2 |\n",
    "| H     | 2 |\n",
    "| I     | 2 |\n",
    "\n",
    "c) What is the maximum number of disagreements there could be for a dataset of this size? (use the formula from b)?"
   ]
  },
  {
   "cell_type": "markdown",
   "metadata": {},
   "source": []
  },
  {
   "cell_type": "markdown",
   "metadata": {},
   "source": [
    "d) If we look at cluster 0. There are (3 x 2) / 2 = 3 pairs that agree with C (since all points in C are in the same cluster). For each cluster, determine how many agreements there are. How many total agreements are there? How many disagreements does that mean there are between C and P?"
   ]
  },
  {
   "cell_type": "markdown",
   "metadata": {},
   "source": []
  },
  {
   "cell_type": "markdown",
   "metadata": {},
   "source": [
    "e) Assuming that filtering the dataset by cluster number is a computationally easy operation, describe an algorithm inspired by the above process that can efficiently compute disagreement distances on large datasets."
   ]
  },
  {
   "cell_type": "markdown",
   "metadata": {},
   "source": []
  }
 ],
 "metadata": {
  "interpreter": {
   "hash": "76ca05dc3ea24b2e3b98cdb7774adfbb40773424bf5109b477fd793f623715af"
  },
  "kernelspec": {
   "display_name": "Python 3 (ipykernel)",
   "language": "python",
   "name": "python3"
  },
  "language_info": {
   "codemirror_mode": {
    "name": "ipython",
    "version": 3
   },
   "file_extension": ".py",
   "mimetype": "text/x-python",
   "name": "python",
   "nbconvert_exporter": "python",
   "pygments_lexer": "ipython3",
   "version": "3.9.13"
  }
 },
 "nbformat": 4,
 "nbformat_minor": 2
}
